{
 "cells": [
  {
   "cell_type": "markdown",
   "metadata": {},
   "source": [
    "# Python Tutorial for ML and Physics 2024\n",
    "This tutorial is largely based on a tutorial by Lorenzo Cerrone and has been modified slightly by Peter Lippmann.\n",
    "\n",
    "Ressources\n",
    " - http://www.scipy.org/topical-software.html\n",
    "\n",
    "\n",
    " Pro: \n",
    " - efficient language: get stuff done with few lines \n",
    " - readable \n",
    " - popular in the scientific community\n",
    " - modules offer advanced algebraic, graphics, ... capabilities \n",
    " - dynamically typed \n",
    " - automatic memory management\n",
    " - open source, free \n",
    "\n",
    "\n",
    " Contra: \n",
    " - speed\n",
    " - many independent developers, thus heterogeneous modules and conventions\n",
    " - dynamically typed \n",
    " - little used in mobile computing "
   ]
  },
  {
   "cell_type": "code",
   "execution_count": null,
   "metadata": {},
   "outputs": [],
   "source": [
    "print(\"Hello World\")"
   ]
  },
  {
   "cell_type": "markdown",
   "metadata": {},
   "source": [
    "## Basics of Jupyter"
   ]
  },
  {
   "cell_type": "markdown",
   "metadata": {},
   "source": [
    "### shortcuts\n",
    "- `ctrl + enter` or `shift + enter`: run code in a cell or run and go down one cell\n",
    "- `ctrl + s`: save\n",
    "\n",
    "### magics\n",
    "- `[something]?`: shows the documentation of `[something]`\n",
    "- `%timeit`, `%time`: to check the run time of a line\n",
    "- `%%timeit`, `%%time`: to check the run time of a cell\n",
    "- `%load_ext autoreload; %autoreload 2`: if you want to work on a local file "
   ]
  },
  {
   "cell_type": "markdown",
   "metadata": {},
   "source": [
    "# Data Types"
   ]
  },
  {
   "cell_type": "markdown",
   "metadata": {},
   "source": [
    "## Numbers"
   ]
  },
  {
   "cell_type": "code",
   "execution_count": null,
   "metadata": {},
   "outputs": [],
   "source": [
    "True, False                      # bool\n",
    "10, 10_000, int('10')            # integers\n",
    "10., 1e-4, float('1.3')          # floats (default is float64)\n",
    "1 + 5j, complex(0, 1)            # complex"
   ]
  },
  {
   "cell_type": "code",
   "execution_count": null,
   "metadata": {},
   "outputs": [],
   "source": [
    "a = 10\n",
    "print(type(a))\n",
    "a = float(a)\n",
    "print(type(a))"
   ]
  },
  {
   "cell_type": "markdown",
   "metadata": {},
   "source": [
    "## Strings"
   ]
  },
  {
   "cell_type": "code",
   "execution_count": null,
   "metadata": {},
   "outputs": [],
   "source": [
    "'this is a string', \"this is also a 'string'\""
   ]
  },
  {
   "cell_type": "code",
   "execution_count": null,
   "metadata": {},
   "outputs": [],
   "source": [
    "b = 10/6\n",
    "print(f'b is {b: .1f}')"
   ]
  },
  {
   "cell_type": "markdown",
   "metadata": {},
   "source": [
    "## Lists"
   ]
  },
  {
   "cell_type": "code",
   "execution_count": null,
   "metadata": {},
   "outputs": [],
   "source": [
    "[1, 2, 3], ['a', 'b', 1], [ [1, 0], [0, 1, 1] ]"
   ]
  },
  {
   "cell_type": "code",
   "execution_count": null,
   "metadata": {},
   "outputs": [],
   "source": [
    "a = ['a', 2, 1]\n",
    "a + [3, 4]\n",
    "#a.remove(1)\n",
    "# a.append(5)"
   ]
  },
  {
   "cell_type": "markdown",
   "metadata": {},
   "source": [
    "## Dictionaries"
   ]
  },
  {
   "cell_type": "code",
   "execution_count": null,
   "metadata": {},
   "outputs": [],
   "source": [
    "{'a': 1, 'b': [0, 0, 1]}, dict(a=1, b=[0, 0, 0])"
   ]
  },
  {
   "cell_type": "code",
   "execution_count": null,
   "metadata": {},
   "outputs": [],
   "source": [
    "a = {'a': 1, 'b': 2}\n",
    "a.update({'c': 1, 'a': 0})\n",
    "a"
   ]
  },
  {
   "cell_type": "markdown",
   "metadata": {},
   "source": [
    "## Sets and Tuples"
   ]
  },
  {
   "cell_type": "code",
   "execution_count": null,
   "metadata": {},
   "outputs": [],
   "source": [
    "{1, 2, 2, 2, 1, 3}, (1, 2, 3)\n",
    "\n",
    "a = {1, 2, 2, 3}\n",
    "b = {2, 3}\n",
    "a.union(b)\n",
    "\n",
    "a = (1, 2, 3)"
   ]
  },
  {
   "cell_type": "markdown",
   "metadata": {},
   "source": [
    "# Operations"
   ]
  },
  {
   "cell_type": "markdown",
   "metadata": {},
   "source": [
    "## Number arithmetic"
   ]
  },
  {
   "cell_type": "code",
   "execution_count": null,
   "metadata": {},
   "outputs": [],
   "source": [
    "2 + 2, 9 - 1, 3*4, 7 ** 2, 5/2, 5//2, 5%2"
   ]
  },
  {
   "cell_type": "markdown",
   "metadata": {},
   "source": [
    "## Logical"
   ]
  },
  {
   "cell_type": "code",
   "execution_count": null,
   "metadata": {},
   "outputs": [],
   "source": [
    "1 == 1, 2 > 1, 1 >= 1                       # all true\n",
    "1 == 1 and True, True or False, not False   # all true\n",
    "1 != 1, 1 < 1 < 2                           # all false"
   ]
  },
  {
   "cell_type": "code",
   "execution_count": null,
   "metadata": {},
   "outputs": [],
   "source": [
    "1 < 1 and 1 < 3"
   ]
  },
  {
   "cell_type": "markdown",
   "metadata": {},
   "source": [
    "# Controll flows"
   ]
  },
  {
   "cell_type": "markdown",
   "metadata": {},
   "source": [
    "## If statement"
   ]
  },
  {
   "cell_type": "code",
   "execution_count": null,
   "metadata": {},
   "outputs": [],
   "source": [
    "if 1 > 2:\n",
    "    print('1 > 2')\n",
    "    \n",
    "elif 1 in [1, 2, 3]:\n",
    "    print('1 in ..')\n",
    "    \n",
    "elif 1 not in [1, 2, 3]:\n",
    "    print('1 not in ..')\n",
    "    \n",
    "else:\n",
    "    print('False')"
   ]
  },
  {
   "cell_type": "code",
   "execution_count": null,
   "metadata": {},
   "outputs": [],
   "source": [
    "a = [1, 2, 3]\n",
    "\n",
    "if isinstance(a, list):\n",
    "    print(a)"
   ]
  },
  {
   "cell_type": "markdown",
   "metadata": {},
   "source": [
    "## For loops"
   ]
  },
  {
   "cell_type": "code",
   "execution_count": null,
   "metadata": {},
   "outputs": [],
   "source": [
    "for i in range(1, 6, 2):\n",
    "    print(i)\n",
    "    \n",
    "[i for i in range(5)]\n",
    "{i: i**2 for i in range(5)}\n",
    "\n",
    "a = ['a', 'b', 'c']\n",
    "b = [1, 2, 3]\n",
    "for value_a, value_b in zip(a, b):\n",
    "    print(value_a, value_b)\n"
   ]
  },
  {
   "cell_type": "code",
   "execution_count": null,
   "metadata": {},
   "outputs": [],
   "source": [
    "# indentation matters:\n",
    "for i in (1, 2, 3): \n",
    "    print(i)\n",
    "    print(i**2) # exponentiation\n",
    "\n",
    "print('\\n')\n",
    "for i in (1, 2, 3): \n",
    "    print(i)\n",
    "print(i**2) # exponentiation"
   ]
  },
  {
   "cell_type": "markdown",
   "metadata": {},
   "source": [
    "## List comprehension"
   ]
  },
  {
   "cell_type": "code",
   "execution_count": null,
   "metadata": {},
   "outputs": [],
   "source": [
    "print([a for a in range(5) if a % 2 == 0])\n",
    "\n",
    "a = []\n",
    "for i in range(5):\n",
    "    if i > 2:\n",
    "        a.append(i)\n",
    "        \n",
    "print(a)"
   ]
  },
  {
   "cell_type": "markdown",
   "metadata": {},
   "source": [
    "## Functions and arguments unpacking"
   ]
  },
  {
   "cell_type": "code",
   "execution_count": null,
   "metadata": {},
   "outputs": [],
   "source": [
    "a = 'global'\n",
    "def sum_two_numbers(*args, **kwargs):\n",
    "    ...\n",
    "    a = 'local'\n",
    "    print(a)\n",
    "    return sum(args)"
   ]
  },
  {
   "cell_type": "code",
   "execution_count": null,
   "metadata": {},
   "outputs": [],
   "source": [
    "sum_two_numbers(1, 2, 3, 6, 7, a=2, b=3)"
   ]
  },
  {
   "cell_type": "markdown",
   "metadata": {},
   "source": [
    "## Classes and name spaces"
   ]
  },
  {
   "cell_type": "code",
   "execution_count": null,
   "metadata": {},
   "outputs": [],
   "source": [
    "class Person:\n",
    "    def __init__(self, name: str = 'Bob', age: int = 18):\n",
    "        self.name = name\n",
    "        self.age = age\n",
    "        \n",
    "    def after_one_year(self, how_many_years) -> None:\n",
    "        x = 'inner test'\n",
    "        self.age += how_many_years\n",
    "        \n",
    "bob = Person(name='Bob', age=20)\n",
    "bob.after_one_year(10)\n",
    "bob.age"
   ]
  },
  {
   "cell_type": "markdown",
   "metadata": {},
   "source": [
    "# Advanced Topics"
   ]
  },
  {
   "cell_type": "markdown",
   "metadata": {},
   "source": [
    "## Decorators and higher order functions"
   ]
  },
  {
   "cell_type": "code",
   "execution_count": null,
   "metadata": {},
   "outputs": [],
   "source": [
    "import time\n",
    "\n",
    "def function_timer(function):\n",
    "    def new_function(*args, **kwarg):\n",
    "        timer = time.time()\n",
    "        result = function(*args, **kwarg)\n",
    "        print(\"time taken\", time.time() - timer)\n",
    "        return result\n",
    "    \n",
    "    return new_function\n",
    "\n",
    "@function_timer\n",
    "def sum_two_numbers(a, b):\n",
    "    return a + b\n",
    "\n",
    "# alternative:\n",
    "def old_function_timer(function, a, b):\n",
    "    timer = time.time()\n",
    "    function(a, b)\n",
    "    print(time.time() - timer)\n",
    "\n",
    "sum_two_numbers(1, 2) # how long does this take? "
   ]
  },
  {
   "cell_type": "markdown",
   "metadata": {},
   "source": [
    "## Dunder (double underscore) Methods\n",
    "\"If it walks like a duck and it quacks like a duck, then it must be a duck\""
   ]
  },
  {
   "cell_type": "code",
   "execution_count": null,
   "metadata": {},
   "outputs": [],
   "source": [
    "class Postion:\n",
    "    def __init__(self, x, y):\n",
    "        self.x = x\n",
    "        self.y = y\n",
    "        \n",
    "    def __repr__(self):\n",
    "        return f'position (x, y) {self.x, self.y}'\n",
    "        \n",
    "    def __add__(self, p):\n",
    "        return Postion(self.x + p.x, self.y + p.y)\n",
    "\n",
    "def add_positions(p1, p2):\n",
    "    return Postion(p1.x + p2.x, p1.y + p2.y)\n",
    "\n",
    "p1 = Postion(0, 1)\n",
    "p2 = Postion(1, 0)\n",
    "p3 = add_positions(p1, p2)\n",
    "print(p3)\n",
    "print(p1 + p2)"
   ]
  },
  {
   "cell_type": "markdown",
   "metadata": {},
   "source": [
    "# Inheritance and the super method"
   ]
  },
  {
   "cell_type": "code",
   "execution_count": null,
   "metadata": {},
   "outputs": [],
   "source": [
    "class Pet:\n",
    "    def __init__(self, name: str, age: int):\n",
    "        self.name = name\n",
    "        self.age = age\n",
    "        \n",
    "    def __repr__(self):\n",
    "        return f'{self.name} is a {self.age} years old'\n",
    "    \n",
    "class Dog(Pet):\n",
    "    def __repr__(self):\n",
    "        return super().__repr__() + ' Dog'"
   ]
  },
  {
   "cell_type": "code",
   "execution_count": null,
   "metadata": {},
   "outputs": [],
   "source": [
    "Dog('Whisky', age=1)"
   ]
  },
  {
   "cell_type": "markdown",
   "metadata": {},
   "source": [
    "# Numpy"
   ]
  },
  {
   "cell_type": "code",
   "execution_count": null,
   "metadata": {},
   "outputs": [],
   "source": [
    "import numpy as np"
   ]
  },
  {
   "cell_type": "markdown",
   "metadata": {},
   "source": [
    "## arrays"
   ]
  },
  {
   "cell_type": "code",
   "execution_count": null,
   "metadata": {},
   "outputs": [],
   "source": [
    "x = np.array([1, 2, 3, 4, 5, 6.])\n",
    "\n",
    "# simple operations\n",
    "# x.shape, x.reshape, astype indexing\n",
    "x = x.reshape(2, 3)\n",
    "x.astype('int64')\n",
    "x.shape\n",
    "x.max(), x.min(), x.argmax()\n",
    "x.sum(), x.mean()\n",
    "(x + 1) ** 2"
   ]
  },
  {
   "cell_type": "markdown",
   "metadata": {},
   "source": [
    "## ufunc (universal functions) and functional style "
   ]
  },
  {
   "cell_type": "code",
   "execution_count": null,
   "metadata": {},
   "outputs": [],
   "source": [
    "a = [1, 1, 1]\n",
    "b = a\n",
    "b[0] = 0\n",
    "a"
   ]
  },
  {
   "cell_type": "code",
   "execution_count": null,
   "metadata": {},
   "outputs": [],
   "source": [
    "x = np.array([1, 1, 1])\n",
    "y = x * 1\n",
    "y[0] = 0\n",
    "x, x is y"
   ]
  },
  {
   "cell_type": "markdown",
   "metadata": {},
   "source": [
    "# when you need copy:"
   ]
  },
  {
   "cell_type": "code",
   "execution_count": null,
   "metadata": {},
   "outputs": [],
   "source": [
    "x = np.array([1, 2, 3])\n",
    "y = x \n",
    "\n",
    "x[0] = 0\n",
    "print(y)  # y changed as well\n",
    "\n",
    "x = np.array([1, 2, 3])\n",
    "y = x.copy()\n",
    "\n",
    "x[0] = 0\n",
    "print(y)  # y did not change"
   ]
  },
  {
   "cell_type": "markdown",
   "metadata": {},
   "source": [
    "## there are a lot more ufunc"
   ]
  },
  {
   "cell_type": "code",
   "execution_count": null,
   "metadata": {},
   "outputs": [],
   "source": [
    "x = np.array([0.25, 0.5, 0.75])\n",
    "# np.sin, np.log, np.sum, \n",
    "np.sin(x, out=x) # if you can avoid it "
   ]
  },
  {
   "cell_type": "markdown",
   "metadata": {},
   "source": [
    "## arrays initialization"
   ]
  },
  {
   "cell_type": "code",
   "execution_count": null,
   "metadata": {},
   "outputs": [],
   "source": [
    "x = np.zeros((10, 10))\n",
    "np.full((2, 2), 11), np.ones_like(x)"
   ]
  },
  {
   "cell_type": "markdown",
   "metadata": {},
   "source": [
    "# random numbers"
   ]
  },
  {
   "cell_type": "code",
   "execution_count": null,
   "metadata": {},
   "outputs": [],
   "source": [
    "np.random.rand() # uniform 0-1\n",
    "np.random.randn() # gaussian dist. mean 0 std 1\n",
    "np.random.randint(0, 3)\n",
    "\n",
    "np.random.rand(10, 10).shape\n",
    "np.random.randint(3, size=(10, 10))\n",
    "list_x = ['a', 'b', 'c']\n",
    "np.random.choice(list_x, size=2, replace=False)"
   ]
  },
  {
   "cell_type": "markdown",
   "metadata": {},
   "source": [
    "## array - array operations"
   ]
  },
  {
   "cell_type": "code",
   "execution_count": null,
   "metadata": {},
   "outputs": [],
   "source": [
    "x = np.random.rand(3)\n",
    "y = np.random.rand(3)\n",
    "# np.dot(x, y), x.dot(y), np.sum(x * y)\n",
    "# x * y #element wise\n",
    "np.dot(x, y), x.dot(y), np.sum(x * y)"
   ]
  },
  {
   "cell_type": "code",
   "execution_count": null,
   "metadata": {},
   "outputs": [],
   "source": [
    "x = np.ones((3, 3))\n",
    "#np.sum(x, axis=1)\n",
    "x[0, :] = 0\n",
    "print(x)\n",
    "np.sum(x, axis=0), np.sum(x, axis=1)"
   ]
  },
  {
   "cell_type": "code",
   "execution_count": null,
   "metadata": {},
   "outputs": [],
   "source": [
    "x = np.zeros(10)\n",
    "x[None, :, np.newaxis].shape"
   ]
  },
  {
   "cell_type": "markdown",
   "metadata": {},
   "source": [
    "## broadcasting example distance between array an point"
   ]
  },
  {
   "cell_type": "code",
   "execution_count": 39,
   "metadata": {},
   "outputs": [
    {
     "data": {
      "text/plain": [
       "array([0.52686056, 0.76289213, 0.73613677, 0.62416794, 0.70033805,\n",
       "       0.57240496, 0.57922235, 0.52653417, 0.6186059 , 0.64679325])"
      ]
     },
     "execution_count": 39,
     "metadata": {},
     "output_type": "execute_result"
    }
   ],
   "source": [
    "x = np.random.rand(10, 3) # shape (10, 3)\n",
    "x0 = np.random.rand(3) # shape (3, )\n",
    "np.sqrt(np.sum((x - x0)**2, axis=1)) # l2 distance "
   ]
  },
  {
   "cell_type": "markdown",
   "metadata": {},
   "source": [
    "for more info https://numpy.org/doc/stable/user/basics.broadcasting.html"
   ]
  },
  {
   "cell_type": "markdown",
   "metadata": {},
   "source": [
    "## advanced indexing and masking"
   ]
  },
  {
   "cell_type": "code",
   "execution_count": 41,
   "metadata": {},
   "outputs": [
    {
     "name": "stdout",
     "output_type": "stream",
     "text": [
      "[0.68772278 0.84923288 0.12956829 0.05490715 0.80948716 0.86052346\n",
      " 0.21583288 0.88095884 0.56405965 0.46074438]\n",
      "[ True  True False False  True  True False  True  True False]\n"
     ]
    },
    {
     "data": {
      "text/plain": [
       "array([0.68772278, 0.84923288, 0.80948716, 0.86052346, 0.88095884,\n",
       "       0.56405965])"
      ]
     },
     "execution_count": 41,
     "metadata": {},
     "output_type": "execute_result"
    }
   ],
   "source": [
    "x  = np.random.rand(10)\n",
    "print(x)\n",
    "mask = x > 0.5\n",
    "print(mask)\n",
    "x[mask]"
   ]
  },
  {
   "cell_type": "code",
   "execution_count": 42,
   "metadata": {},
   "outputs": [
    {
     "data": {
      "text/plain": [
       "array([1, 1, 0, 0, 1, 1, 0, 1, 1, 0])"
      ]
     },
     "execution_count": 42,
     "metadata": {},
     "output_type": "execute_result"
    }
   ],
   "source": [
    "# np.where\n",
    "np.where(x > 0.5, 1, 0)"
   ]
  },
  {
   "cell_type": "code",
   "execution_count": null,
   "metadata": {},
   "outputs": [],
   "source": [
    "x[[0, 1, 2]]"
   ]
  },
  {
   "cell_type": "markdown",
   "metadata": {},
   "source": [
    "## numpy linlang"
   ]
  },
  {
   "cell_type": "code",
   "execution_count": 43,
   "metadata": {},
   "outputs": [],
   "source": [
    "matrix = np.random.rand(3, 3)"
   ]
  },
  {
   "cell_type": "code",
   "execution_count": 44,
   "metadata": {},
   "outputs": [
    {
     "name": "stdout",
     "output_type": "stream",
     "text": [
      "[ 1.67119895  0.05889461 -0.37892882]\n"
     ]
    }
   ],
   "source": [
    "eig, eigvectors = np.linalg.eig(matrix)\n",
    "print(eig)"
   ]
  },
  {
   "cell_type": "code",
   "execution_count": 45,
   "metadata": {},
   "outputs": [
    {
     "data": {
      "text/plain": [
       "array([[15.08542706, -3.43515587, -0.46728906],\n",
       "       [-9.73197104,  1.51065741,  1.95506762],\n",
       "       [ 5.7561786 ,  0.3950215 , -1.65724627]])"
      ]
     },
     "execution_count": 45,
     "metadata": {},
     "output_type": "execute_result"
    }
   ],
   "source": [
    "np.linalg.inv(matrix)"
   ]
  },
  {
   "cell_type": "code",
   "execution_count": 46,
   "metadata": {},
   "outputs": [
    {
     "data": {
      "text/plain": [
       "array([[ 1.00000000e+00,  1.52261762e-16, -3.38300647e-16],\n",
       "       [-1.03926249e-16,  1.00000000e+00, -8.02266582e-17],\n",
       "       [ 1.64734816e-17,  2.52963073e-16,  1.00000000e+00]])"
      ]
     },
     "execution_count": 46,
     "metadata": {},
     "output_type": "execute_result"
    }
   ],
   "source": [
    "np.matmul(np.linalg.inv(matrix), matrix)"
   ]
  },
  {
   "cell_type": "code",
   "execution_count": 47,
   "metadata": {},
   "outputs": [
    {
     "data": {
      "text/plain": [
       "SVDResult(U=array([[-0.19790247, -0.0439971 , -0.97923382],\n",
       "       [-0.73276668, -0.65689354,  0.17760595],\n",
       "       [-0.65106652,  0.75269857,  0.09776125]]), S=array([1.67801859, 0.42788892, 0.05194377]), Vh=array([[-0.27526101, -0.76158105, -0.58670749],\n",
       "       [ 0.53104817,  0.3882724 , -0.75314832],\n",
       "       [-0.80138581,  0.5188823 , -0.29755997]]))"
      ]
     },
     "execution_count": 47,
     "metadata": {},
     "output_type": "execute_result"
    }
   ],
   "source": [
    "np.linalg.svd(matrix)"
   ]
  },
  {
   "cell_type": "markdown",
   "metadata": {},
   "source": [
    "# numpy i/o"
   ]
  },
  {
   "cell_type": "code",
   "execution_count": null,
   "metadata": {},
   "outputs": [],
   "source": [
    "np.save('test.npy', matrix)\n",
    "np.load('test.npy')"
   ]
  },
  {
   "cell_type": "markdown",
   "metadata": {},
   "source": [
    "# Matplotlib"
   ]
  },
  {
   "cell_type": "code",
   "execution_count": null,
   "metadata": {},
   "outputs": [],
   "source": [
    "import matplotlib.pyplot as plt"
   ]
  },
  {
   "cell_type": "code",
   "execution_count": null,
   "metadata": {},
   "outputs": [],
   "source": [
    "x = np.arange(0, 12, 0.1)\n",
    "y = np.sin(x)"
   ]
  },
  {
   "cell_type": "code",
   "execution_count": null,
   "metadata": {},
   "outputs": [],
   "source": [
    "plt.figure(figsize=(10, 5))\n",
    "\n",
    "plt.plot(x, y, c=np.random.rand(3), label='line')\n",
    "plt.scatter(x[::10], y[::10], label='scatter')\n",
    "plt.legend()\n",
    "plt.xlabel('x')\n",
    "plt.ylabel('sin(x)')\n",
    "plt.show()"
   ]
  },
  {
   "cell_type": "code",
   "execution_count": null,
   "metadata": {},
   "outputs": [],
   "source": [
    "fig, axes = plt.subplots(1, 2)\n",
    "axes[0].plot(x, y)\n",
    "axes[1].plot(x, np.cos(x))\n",
    "axes[1].set_xlabel('x')\n"
   ]
  },
  {
   "cell_type": "code",
   "execution_count": null,
   "metadata": {},
   "outputs": [],
   "source": [
    "axes"
   ]
  },
  {
   "cell_type": "code",
   "execution_count": null,
   "metadata": {},
   "outputs": [],
   "source": [
    "x, y = np.arange(-1, 1, 0.01), np.arange(-1, 1, 0.01)\n",
    "\n",
    "\"\"\"\n",
    "(-1, -1)......(-1, 1)\n",
    ".\n",
    ".\n",
    ".\n",
    "(1, -1) .......(1, 1)\n",
    "\"\"\"\n",
    "\n",
    "xx, yy = np.meshgrid(x, y)\n",
    "zz = np.exp(- (xx)**2 - (yy)**2) \n",
    "zz.shape"
   ]
  },
  {
   "cell_type": "code",
   "execution_count": null,
   "metadata": {},
   "outputs": [],
   "source": [
    "plt.imshow(zz, cmap='gray')\n",
    "plt.colorbar()"
   ]
  },
  {
   "cell_type": "markdown",
   "metadata": {},
   "source": [
    "https://matplotlib.org/devdocs/gallery/index.html"
   ]
  },
  {
   "cell_type": "markdown",
   "metadata": {},
   "source": [
    "# Scipy\n",
    "\n",
    "just too much to give an overview\n",
    "https://scipy.github.io/devdocs/reference/cluster.html"
   ]
  },
  {
   "cell_type": "markdown",
   "metadata": {},
   "source": [
    "## Scipy Example ODE\n",
    "\n",
    "$\\frac{d}{dt} x = - x^2 + 3$"
   ]
  },
  {
   "cell_type": "code",
   "execution_count": null,
   "metadata": {},
   "outputs": [],
   "source": [
    "from scipy.integrate import odeint\n",
    "\n",
    "def dx_dt(x, _):\n",
    "    return - x**2 + 3\n",
    "\n",
    "y_t = odeint(dx_dt, y0=1, t=np.arange(0, 3, 0.01))\n",
    "\n",
    "plt.plot(np.arange(0, 3, 0.01), y_t)"
   ]
  },
  {
   "cell_type": "markdown",
   "metadata": {},
   "source": [
    "## Scipy example convolutions"
   ]
  },
  {
   "cell_type": "code",
   "execution_count": null,
   "metadata": {},
   "outputs": [],
   "source": [
    "from scipy.ndimage import convolve\n",
    "\n",
    "image = np.zeros((50, 50))\n",
    "image[20:-20, 20:-20] = 1\n",
    "image += np.random.rand(*image.shape) * 0.2\n",
    "plt.imshow(image)\n",
    "plt.show()\n",
    "\n",
    "\n",
    "smoothing_filter = np.ones((3, 3)) / 9\n",
    "smooth_image = convolve(image, smoothing_filter)\n",
    "plt.imshow(smooth_image)"
   ]
  },
  {
   "cell_type": "markdown",
   "metadata": {},
   "source": [
    "## Scipy example fitting curve"
   ]
  },
  {
   "cell_type": "code",
   "execution_count": null,
   "metadata": {},
   "outputs": [],
   "source": [
    "from scipy.optimize import curve_fit\n",
    "\n",
    "def gaussian(x, sigma, mu):\n",
    "    return np.exp(-(x - mu)**2/(2*sigma**2))\n",
    "\n",
    "x = np.arange(-3, 3, 0.01)\n",
    "y = gaussian(x, sigma=0.5, mu=1) + np.random.randn(*x.shape) * 0.1\n",
    "plt.plot(x, y)\n",
    "\n",
    "param, _ = curve_fit(gaussian, x, y)\n",
    "param"
   ]
  }
 ],
 "metadata": {
  "kernelspec": {
   "display_name": "Python 3",
   "language": "python",
   "name": "python3"
  },
  "language_info": {
   "codemirror_mode": {
    "name": "ipython",
    "version": 3
   },
   "file_extension": ".py",
   "mimetype": "text/x-python",
   "name": "python",
   "nbconvert_exporter": "python",
   "pygments_lexer": "ipython3",
   "version": "3.10.0"
  }
 },
 "nbformat": 4,
 "nbformat_minor": 2
}
