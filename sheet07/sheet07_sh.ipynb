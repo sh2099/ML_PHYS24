{
 "cells": [
  {
   "cell_type": "code",
   "execution_count": 1,
   "metadata": {},
   "outputs": [],
   "source": [
    "import torch"
   ]
  },
  {
   "cell_type": "code",
   "execution_count": 2,
   "metadata": {},
   "outputs": [],
   "source": [
    "# Define x and c as PyTorch tensors with requires_grad=True to enable gradient computation\n",
    "x = torch.tensor(3.0, requires_grad=True)  # x = 3\n",
    "c = torch.tensor(5.0, requires_grad=True)  # c = 5\n",
    "\n",
    "# Define the function f(x, c)\n",
    "u1 = x**2\n",
    "u2 = torch.log(x)\n",
    "u3 = u1 / u2\n",
    "u4 = u3 + c\n",
    "u5 = u3 - c\n",
    "f = u4 * u5  # f = (u3 + c) * (u3 - c)"
   ]
  },
  {
   "cell_type": "code",
   "execution_count": 3,
   "metadata": {},
   "outputs": [
    {
     "name": "stdout",
     "output_type": "stream",
     "text": [
      "Derivative with respect to x: 48.756893157958984\n",
      "Derivative with respect to c: -10.0\n"
     ]
    }
   ],
   "source": [
    "# Compute the gradients using backward()\n",
    "f.backward()\n",
    "\n",
    "# Output the computed derivatives\n",
    "df_dx = x.grad  # ∂f/∂x\n",
    "df_dc = c.grad  # ∂f/∂c\n",
    "\n",
    "print(f\"Derivative with respect to x: {df_dx.item()}\")\n",
    "print(f\"Derivative with respect to c: {df_dc.item()}\")"
   ]
  }
 ],
 "metadata": {
  "kernelspec": {
   "display_name": "mlph3",
   "language": "python",
   "name": "python3"
  },
  "language_info": {
   "codemirror_mode": {
    "name": "ipython",
    "version": 3
   },
   "file_extension": ".py",
   "mimetype": "text/x-python",
   "name": "python",
   "nbconvert_exporter": "python",
   "pygments_lexer": "ipython3",
   "version": "3.9.20"
  }
 },
 "nbformat": 4,
 "nbformat_minor": 2
}
