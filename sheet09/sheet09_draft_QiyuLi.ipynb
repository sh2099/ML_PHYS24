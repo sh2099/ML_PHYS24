{
 "cells": [
  {
   "cell_type": "markdown",
   "metadata": {},
   "source": [
    "# Sheet 9"
   ]
  },
  {
   "cell_type": "markdown",
   "metadata": {},
   "source": [
    "## 2 Under the hood of LLMs: Llama 2.7B"
   ]
  },
  {
   "cell_type": "code",
   "execution_count": 1,
   "metadata": {},
   "outputs": [
    {
     "data": {
      "application/vnd.jupyter.widget-view+json": {
       "model_id": "be1bbb8571f849f7889e3030f815fce3",
       "version_major": 2,
       "version_minor": 0
      },
      "text/plain": [
       "Loading checkpoint shards:   0%|          | 0/2 [00:00<?, ?it/s]"
      ]
     },
     "metadata": {},
     "output_type": "display_data"
    },
    {
     "name": "stdout",
     "output_type": "stream",
     "text": [
      "LlamaForCausalLM(\n",
      "  (model): LlamaModel(\n",
      "    (embed_tokens): Embedding(32000, 4096)\n",
      "    (layers): ModuleList(\n",
      "      (0-31): 32 x LlamaDecoderLayer(\n",
      "        (self_attn): LlamaSdpaAttention(\n",
      "          (q_proj): Linear(in_features=4096, out_features=4096, bias=False)\n",
      "          (k_proj): Linear(in_features=4096, out_features=4096, bias=False)\n",
      "          (v_proj): Linear(in_features=4096, out_features=4096, bias=False)\n",
      "          (o_proj): Linear(in_features=4096, out_features=4096, bias=False)\n",
      "          (rotary_emb): LlamaRotaryEmbedding()\n",
      "        )\n",
      "        (mlp): LlamaMLP(\n",
      "          (gate_proj): Linear(in_features=4096, out_features=11008, bias=False)\n",
      "          (up_proj): Linear(in_features=4096, out_features=11008, bias=False)\n",
      "          (down_proj): Linear(in_features=11008, out_features=4096, bias=False)\n",
      "          (act_fn): SiLU()\n",
      "        )\n",
      "        (input_layernorm): LlamaRMSNorm((4096,), eps=1e-05)\n",
      "        (post_attention_layernorm): LlamaRMSNorm((4096,), eps=1e-05)\n",
      "      )\n",
      "    )\n",
      "    (norm): LlamaRMSNorm((4096,), eps=1e-05)\n",
      "    (rotary_emb): LlamaRotaryEmbedding()\n",
      "  )\n",
      "  (lm_head): Linear(in_features=4096, out_features=32000, bias=False)\n",
      ")\n"
     ]
    }
   ],
   "source": [
    "from transformers import AutoTokenizer, AutoModelForCausalLM\n",
    "import torch\n",
    "\n",
    "device = torch.device('cuda:0' if torch.cuda.is_available() else 'cpu')\n",
    "\n",
    "with open(\"access_token.txt\", \"r\") as f:\n",
    "    access_token = f.read().strip()\n",
    "\n",
    "model = \"meta-llama/Llama-2-7b-chat-hf\"\n",
    "tokenizer = AutoTokenizer.from_pretrained(model, token=access_token)\n",
    "model = AutoModelForCausalLM.from_pretrained(model, token=access_token, torch_dtype = torch.float16).to(device)\n",
    "print(model)"
   ]
  },
  {
   "cell_type": "code",
   "execution_count": 2,
   "metadata": {},
   "outputs": [
    {
     "name": "stdout",
     "output_type": "stream",
     "text": [
      "id=5100, compet\n",
      "id=5101, pair\n",
      "id=5102, inglés\n",
      "id=5103, Response\n",
      "id=5104, Fig\n",
      "id=5105, grad\n",
      "id=5106, documentation\n",
      "id=5107, cant\n",
      "id=5108, appreci\n",
      "id=5109, ån\n",
      "\n",
      "tokenizer length: 32000\n",
      "\n",
      "sun_id=tensor([   1, 6575])\n",
      "<s> sun\n",
      "embedding shape: torch.Size([2, 4096])\n"
     ]
    }
   ],
   "source": [
    "for id in range(5100, 5110):\n",
    "    print(f\"{id=}, {tokenizer.decode([id])}\")  # print 10 token ids and their corresponding text\n",
    "\n",
    "print(\"\\ntokenizer length:\", len(tokenizer)) # size of the vocabulary\n",
    "\n",
    "sun_id = tokenizer.encode(\"sun\", return_tensors=\"pt\")[-1] # encoded token for the word \"sun\"\n",
    "print(f\"\\n{sun_id=}\")\n",
    "\n",
    "print(tokenizer.decode(sun_id)) # decode the token sun_id to text\n",
    "\n",
    "emb = model.get_input_embeddings()(sun_id.to(device)) # get the input embedding for the token sun_id\n",
    "print(\"embedding shape:\", emb.shape)"
   ]
  },
  {
   "cell_type": "code",
   "execution_count": 3,
   "metadata": {},
   "outputs": [
    {
     "name": "stdout",
     "output_type": "stream",
     "text": [
      "<s> My favorite composer is\n",
      "\n",
      "logits shape: torch.Size([32000])\n",
      "\n",
      "Outputs:\n",
      "\n",
      "Moz: 0.25\n",
      "Ch: 0.11\n",
      "Be: 0.09\n",
      "Ludwig: 0.08\n",
      "Fr: 0.03\n",
      "Wolfgang: 0.02\n",
      "Ig: 0.02\n"
     ]
    }
   ],
   "source": [
    "sequence = \"My favorite composer is\"\n",
    "model_inputs = tokenizer(sequence, return_tensors=\"pt\").to(device) # tokenize the input sequence\n",
    "print(tokenizer.decode(model_inputs[\"input_ids\"].tolist()[0])) # view tokenized input\n",
    "with torch.no_grad():\n",
    "    outputs = model(**model_inputs) # get model outputs for the tokenized input sequence\n",
    "\n",
    "logits = outputs['logits'][0, -1, :] # get the logits for the last token\n",
    "print(\"\\nlogits shape:\", logits.shape)\n",
    "\n",
    "probabilities = torch.nn.functional.softmax(logits, dim=-1) # convert logits to probabilities using softmax\n",
    "top_k = 7\n",
    "top_prob, top_ind = torch.topk(probabilities, top_k) # get the top_k most probable tokens\n",
    "\n",
    "print(\"\\nOutputs:\\n\") \n",
    "\n",
    "for i in range(top_k):\n",
    "    print(f\"{tokenizer.decode(top_ind[i].tolist())}: {top_prob[i]:.2f}\") # print the top_k most probable token texts and their probabilities"
   ]
  },
  {
   "cell_type": "code",
   "execution_count": 4,
   "metadata": {},
   "outputs": [
    {
     "name": "stdout",
     "output_type": "stream",
     "text": [
      "Unterscheidung \n",
      "Unterscheidung zwischen \n",
      "Unterscheidung zwischen  \n",
      "Unterscheidung zwischen  K \n",
      "Unterscheidung zwischen  K raft \n",
      "Unterscheidung zwischen  K raft  \n",
      "Unterscheidung zwischen  K raft  und \n",
      "Unterscheidung zwischen  K raft  und  \n",
      "Unterscheidung zwischen  K raft  und  K \n",
      "Unterscheidung zwischen  K raft  und  K raft \n",
      "Unterscheidung zwischen  K raft  und  K raft werk \n",
      "Unterscheidung zwischen  K raft  und  K raft werk  \n",
      "Unterscheidung zwischen  K raft  und  K raft werk   \n",
      "Unterscheidung zwischen  K raft  und  K raft werk    \n",
      "Unterscheidung zwischen  K raft  und  K raft werk     \n",
      "Unterscheidung zwischen  K raft  und  K raft werk     K \n",
      "Unterscheidung zwischen  K raft  und  K raft werk     K raft \n",
      "Unterscheidung zwischen  K raft  und  K raft werk     K raft  \n",
      "Unterscheidung zwischen  K raft  und  K raft werk     K raft  und \n",
      "Unterscheidung zwischen  K raft  und  K raft werk     K raft  und  \n",
      "Unterscheidung zwischen  K raft  und  K raft werk     K raft  und  K \n",
      "Unterscheidung zwischen  K raft  und  K raft werk     K raft  und  K raft \n",
      "Unterscheidung zwischen  K raft  und  K raft werk     K raft  und  K raft werk \n",
      "Unterscheidung zwischen  K raft  und  K raft werk     K raft  und  K raft werk  \n",
      "Unterscheidung zwischen  K raft  und  K raft werk     K raft  und  K raft werk  sind \n",
      "Unterscheidung zwischen  K raft  und  K raft werk     K raft  und  K raft werk  sind two \n",
      "Unterscheidung zwischen  K raft  und  K raft werk     K raft  und  K raft werk  sind two different \n",
      "Unterscheidung zwischen  K raft  und  K raft werk     K raft  und  K raft werk  sind two different German \n",
      "Unterscheidung zwischen  K raft  und  K raft werk     K raft  und  K raft werk  sind two different German words \n",
      "Unterscheidung zwischen  K raft  und  K raft werk     K raft  und  K raft werk  sind two different German words that \n"
     ]
    }
   ],
   "source": [
    "import regex as re\n",
    "\n",
    "sequence = \"\"\n",
    "model_inputs = tokenizer(sequence, return_tensors=\"pt\").to(device) # start with an empty sequence\n",
    "\n",
    "generated_answer = \"\"\n",
    "for _ in range(30):\n",
    "    with torch.no_grad():\n",
    "        outputs = model(**model_inputs) # get model outputs for the tokenized input sequence\n",
    "        logits = outputs['logits'][0, -1, :] # get the logits for the last token\n",
    "        probabilities = torch.nn.functional.softmax(logits, dim=-1) # convert logits to probabilities using softmax\n",
    "        next_token_id = torch.argmax(probabilities).unsqueeze(0) # get the most probable token id\n",
    "        model_inputs[\"input_ids\"] = torch.cat([model_inputs[\"input_ids\"], next_token_id.unsqueeze(0)], dim=-1) # append the most probable token to the input sequence\n",
    "    \n",
    "    next_word = tokenizer.decode(next_token_id.tolist()) # decode the most probable token\n",
    "    next_word = re.sub(r\"[^a-zA-Z0-9.?!]\", \"\", next_word) # remove characters that are not in a-z, A-Z, 0-9, \".\", \"?\", and \"!\"\n",
    "    generated_answer += next_word \n",
    "    generated_answer += \" \"\n",
    "    \n",
    "    print(generated_answer) # print the output sequence generated by the model from an empty input sequence"
   ]
  },
  {
   "cell_type": "markdown",
   "metadata": {},
   "source": [
    "## 3 Flow-based modeling"
   ]
  },
  {
   "cell_type": "markdown",
   "metadata": {},
   "source": [
    "### (a)\n",
    "\n",
    "The CDF of $Y^\\prime = CDF_Y^{-1}(X)$ is \n",
    "\n",
    "$$CDF_{Y^\\prime}(y) = P(Y^\\prime \\leq y) = P(CDF_Y^{-1}(X) \\leq y),$$\n",
    "\n",
    "since CDF is a monotonically non-decreasing function, applying $CDF_Y(\\cdot)$ to both sides of the inequality will give an equivalent inequality, i.e.\n",
    "\n",
    "$$CDF_{Y^\\prime}(y) = P(CDF_Y(Y^\\prime) \\leq CDF_Y(y))$$\n",
    "$$ = P(X \\leq CDF_Y(y)) = CDF_{X}(CDF_Y(y))$$\n",
    "\n",
    "If X is a RV following a uniform distribution between 0 to 1, we have $CDF_X(x) = x$, therefore,\n",
    "\n",
    "$$CDF_{Y^\\prime}(y) = CDF_Y(y),$$\n",
    "\n",
    "which means the pdf of $Y$ and $Y^\\prime$ are identical."
   ]
  },
  {
   "cell_type": "markdown",
   "metadata": {},
   "source": [
    "### (b)\n",
    "\n",
    "Let $X^\\prime$ be a RV taken from pdf $p_X$. The result of (a) implies that:\n",
    "\n",
    "1. Let $Z = CDF_X(X^\\prime)$, then $Z$ follows a uniform distribution between 0 to 1. \n",
    "\n",
    "2. Let $Y^\\prime = CDF_Y^{-1}(Z) = CDF_Y^{-1}(CDF_X(X^\\prime))$, then the pdf of $Y^\\prime$ is $p_Y$. "
   ]
  },
  {
   "cell_type": "code",
   "execution_count": 4,
   "metadata": {},
   "outputs": [
    {
     "data": {
      "image/png": "[encoded data removed]",
      "text/plain": [
       "<Figure size 640x480 with 1 Axes>"
      ]
     },
     "metadata": {},
     "output_type": "display_data"
    }
   ],
   "source": [
    "import numpy as np\n",
    "import matplotlib.pyplot as plt\n",
    "\n",
    "# load the 1d samples:\n",
    "samples = np.load(\"data/samples_1d.npy\")\n",
    "\n",
    "x_lin = np.linspace(0, 2, 1000)\n",
    "plt.hist(samples, bins=50, density=True)\n",
    "plt.plot(x_lin, 1/2 * x_lin, label=\"pdf(x) = 1/2*x, x in [0,2]\")\n",
    "plt.legend()\n",
    "plt.show()"
   ]
  },
  {
   "cell_type": "code",
   "execution_count": 5,
   "metadata": {},
   "outputs": [
    {
     "data": {
      "image/png": "[encoded data removed]",
      "text/plain": [
       "<Figure size 640x480 with 1 Axes>"
      ]
     },
     "metadata": {},
     "output_type": "display_data"
    }
   ],
   "source": [
    "# TODO: transform the samples to samples from pdf(y) = -1/2*y + 1, y in [0,2]\n",
    "\n",
    "# CDF(x) = x^2/4, CDF(y) = -y^2/4 + y, CDF^-1(y') = 2 - 2*sqrt(1-y')\n",
    "\n",
    "y_trans = 2 - 2 * np.sqrt(1 - (samples**2 / 4))\n",
    "plt.hist(y_trans, bins=50, density=True)\n",
    "plt.plot(x_lin, 1 - 1/2 * x_lin, label=\"pdf(x) = 1 - 1/2*y, y in [0,2]\")\n",
    "plt.legend()\n",
    "plt.show()"
   ]
  },
  {
   "cell_type": "markdown",
   "metadata": {},
   "source": [
    "### (c)\n",
    "\n",
    "Let $X_1, X_2 \\sim U(0, 1)$, $Y_1, Y_2 \\sim N^2(0, 1, 0, 1)$.\n",
    "\n",
    "The pdf of $Y_1, Y_2$ is $$p_{{Y_1}, {Y_2}}(y_1, y_2) = \\frac{1}{2\\pi} \\exp(-\\frac{1}{2}(y_1^2 + y_2^2)).$$\n",
    "\n",
    "Transform into polar coordinate $(r, \\phi)$, gives \n",
    "\n",
    "$$Y_1 = R \\cos \\Phi,\\ \\  Y_2 = R \\sin \\Phi,$$\n",
    "$$p_{R, \\Phi}(r, \\phi) = \\frac{1}{2\\pi} r\\exp(-\\frac{1}{2}r^2).$$\n",
    "\n",
    "Corresponding marginal distribution, CDF and quantile function are given by\n",
    "\n",
    "$$p_R(r) = r\\exp(-\\frac{1}{2}r^2),\\ \\  p_{\\Phi}(\\phi) = \\frac{1}{2\\pi}$$\n",
    "$$CDF_R(r) = 1 - \\exp(-\\frac{r^2}{2}),\\ \\  CDF_\\Phi(\\phi) = \\frac{\\phi}{2\\pi}$$\n",
    "$$CDF_R^{-1}(a) = \\sqrt{-2\\log(1-a)},\\ \\  CDF_\\Phi^{-1}(b) = 2\\pi b.$$\n",
    "\n",
    "According to the result of (a) and (b), we have\n",
    "\n",
    "$$R = CDF_R^{-1}(X_1) = \\sqrt{-2\\log(1-X_1)}, \\ \\ \\Phi = CDF_\\Phi^{-1}(X_2) = 2\\pi X_2, $$\n",
    "$$Y_1 = \\sqrt{-2\\log(1-X_1)} \\cos (2\\pi X_2),$$\n",
    "$$Y_2 = \\sqrt{-2\\log(1-X_1)} \\sin (2\\pi X_2).$$"
   ]
  },
  {
   "cell_type": "markdown",
   "metadata": {},
   "source": [
    "### (d)\n",
    "\n",
    "Because different joint distribution could give same marginal distribution. The covariance of the multivariate distribution must be taken into account."
   ]
  },
  {
   "cell_type": "markdown",
   "metadata": {},
   "source": [
    "### (e)\n",
    "\n",
    "If $h(x)$ is a monotonic function, then $h^{-1}(y)$ is also a monotonic function with same monotonicity.\n",
    "\n",
    "The CDF of Y is \n",
    "$$\n",
    "CDF_Y(y) = P(Y \\leq y) = P(h(x) \\leq y) \n",
    "= \\left\\{\n",
    "    \\begin{aligned}\n",
    "    P(X \\leq h^{-1}(y)),\\ \\  & h^\\prime(x) \\geq 0, \\\\\n",
    "    P(X \\geq h^{-1}(y)),\\ \\  & h^\\prime(x) \\leq 0.\n",
    "    \\end{aligned}\\right.\n",
    "$$\n",
    "\n",
    "$$\n",
    "CDF_Y(y) = \\left\\{\n",
    "    \\begin{aligned}\n",
    "    CDF_X(h^{-1}(y)),\\ \\  & h^\\prime(x) \\geq 0, \\\\\n",
    "    1 - CDF_X(h^{-1}(y)),\\ \\  & h^\\prime(x) \\leq 0.\n",
    "    \\end{aligned}\\right.\n",
    "$$\n",
    "\n",
    "$$\n",
    "p_Y(y) = \\frac{d}{dy} CDF_Y(y) = \\left\\{\n",
    "    \\begin{aligned}\n",
    "     \\frac{p_X(h^{-1}(y))}{h^\\prime(h^{-1}(y))},\\ \\  & h^\\prime(x) \\geq 0, \\\\\n",
    "    - \\frac{p_X(h^{-1}(y))}{h^\\prime(h^{-1}(y))},\\ \\  & h^\\prime(x) \\leq 0.\n",
    "    \\end{aligned}\\right.\n",
    "$$\n",
    "\n",
    "$$p_Y(y) = \\left.p_X(x)\\cdot|\\frac{dh}{dx}(x)|^{-1}\\right|_{x = h^{-1}(y)}$$"
   ]
  },
  {
   "cell_type": "markdown",
   "metadata": {},
   "source": []
  }
 ],
 "metadata": {
  "kernelspec": {
   "display_name": "base",
   "language": "python",
   "name": "python3"
  },
  "language_info": {
   "codemirror_mode": {
    "name": "ipython",
    "version": 3
   },
   "file_extension": ".py",
   "mimetype": "text/x-python",
   "name": "python",
   "nbconvert_exporter": "python",
   "pygments_lexer": "ipython3",
   "version": "3.12.2"
  }
 },
 "nbformat": 4,
 "nbformat_minor": 2
}
