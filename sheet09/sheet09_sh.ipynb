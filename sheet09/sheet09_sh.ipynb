{
 "cells": [
  {
   "cell_type": "markdown",
   "metadata": {},
   "source": [
    "# Sheet 9"
   ]
  },
  {
   "cell_type": "markdown",
   "metadata": {},
   "source": [
    "#### 1 Pretraining LLMs\n",
    "\n",
    "##### (a) BERT\n",
    "Additional possible pretraining tasks\n",
    "- Text Span Filling (TSF): Instead of missing words, there are now missing contiguous sections of text (spans). \n",
    "    - Understand broader context\n",
    "    - Helpful for e.g. anwering questions, or any other example where phrases/clauses are used.\n",
    "- Sentence order prediction (SOP): Given contiguous sentences, predict their ordering.\n",
    "    - Capture logical flow, and coherence between sentences\n",
    "    - NSP can be 'gamed' by learning topical overlap, rather than sentence relationships, SOP overcomes this.\n",
    "    \n",
    "\n",
    "\n",
    "##### (b) GPT\n",
    "Alternative pretraining to CLM\n",
    "- Prefix Language Modelling (PLM): Given a prefix, this is randomly truncated, and model learns continuation.\n",
    "    - Varying extent of prefix forces model to learn different levels of context\n",
    "    - Attention to specific prefix required, helps improve generative text\n",
    "    - Complexity: Only tokens following prefix need to be generated => same level of complexity as PLM\n",
    "    - Parallelisation: Extra variation from truncation, but multiple samples with different truncation points can be processed in parallel.\n",
    "- Bidirectional Context Generalisation (BCG): Given both left and right context, the model generates the missing central token. E.g. The cat ___ on the mat.\n",
    "    - Encourages leveraging preceeding and succeeding context.\n",
    "    - Combines causal nature of GPT with bidirectional reasoning\n",
    "    - Complexity: Higher - need to process both left and right context\n",
    "    - Parallelisation: Harder - relationship between tokens in missing span\n"
   ]
  },
  {
   "cell_type": "markdown",
   "metadata": {},
   "source": [
    "## 2 Under the hood of LLMs: Llama 2.7B"
   ]
  },
  {
   "cell_type": "code",
   "execution_count": 1,
   "metadata": {},
   "outputs": [
    {
     "data": {
      "application/vnd.jupyter.widget-view+json": {
       "model_id": "be1bbb8571f849f7889e3030f815fce3",
       "version_major": 2,
       "version_minor": 0
      },
      "text/plain": [
       "Loading checkpoint shards:   0%|          | 0/2 [00:00<?, ?it/s]"
      ]
     },
     "metadata": {},
     "output_type": "display_data"
    },
    {
     "name": "stdout",
     "output_type": "stream",
     "text": [
      "LlamaForCausalLM(\n",
      "  (model): LlamaModel(\n",
      "    (embed_tokens): Embedding(32000, 4096)\n",
      "    (layers): ModuleList(\n",
      "      (0-31): 32 x LlamaDecoderLayer(\n",
      "        (self_attn): LlamaSdpaAttention(\n",
      "          (q_proj): Linear(in_features=4096, out_features=4096, bias=False)\n",
      "          (k_proj): Linear(in_features=4096, out_features=4096, bias=False)\n",
      "          (v_proj): Linear(in_features=4096, out_features=4096, bias=False)\n",
      "          (o_proj): Linear(in_features=4096, out_features=4096, bias=False)\n",
      "          (rotary_emb): LlamaRotaryEmbedding()\n",
      "        )\n",
      "        (mlp): LlamaMLP(\n",
      "          (gate_proj): Linear(in_features=4096, out_features=11008, bias=False)\n",
      "          (up_proj): Linear(in_features=4096, out_features=11008, bias=False)\n",
      "          (down_proj): Linear(in_features=11008, out_features=4096, bias=False)\n",
      "          (act_fn): SiLU()\n",
      "        )\n",
      "        (input_layernorm): LlamaRMSNorm((4096,), eps=1e-05)\n",
      "        (post_attention_layernorm): LlamaRMSNorm((4096,), eps=1e-05)\n",
      "      )\n",
      "    )\n",
      "    (norm): LlamaRMSNorm((4096,), eps=1e-05)\n",
      "    (rotary_emb): LlamaRotaryEmbedding()\n",
      "  )\n",
      "  (lm_head): Linear(in_features=4096, out_features=32000, bias=False)\n",
      ")\n"
     ]
    }
   ],
   "source": [
    "from transformers import AutoTokenizer, AutoModelForCausalLM\n",
    "import torch\n",
    "\n",
    "device = torch.device('cuda:0' if torch.cuda.is_available() else 'cpu')\n",
    "\n",
    "with open(\"access_token.txt\", \"r\") as f:\n",
    "    access_token = f.read().strip()\n",
    "\n",
    "model = \"meta-llama/Llama-2-7b-chat-hf\"\n",
    "tokenizer = AutoTokenizer.from_pretrained(model, token=access_token)\n",
    "model = AutoModelForCausalLM.from_pretrained(model, token=access_token, torch_dtype = torch.float16).to(device)\n",
    "print(model)"
   ]
  },
  {
   "cell_type": "code",
   "execution_count": null,
   "metadata": {},
   "outputs": [
    {
     "name": "stdout",
     "output_type": "stream",
     "text": [
      "id=5100, compet\n",
      "id=5101, pair\n",
      "id=5102, inglés\n",
      "id=5103, Response\n",
      "id=5104, Fig\n",
      "id=5105, grad\n",
      "id=5106, documentation\n",
      "id=5107, cant\n",
      "id=5108, appreci\n",
      "id=5109, ån\n",
      "\n",
      "tokenizer length: 32000\n",
      "\n",
      "sun_id=tensor([   1, 6575])\n",
      "<s> sun\n",
      "embedding shape: torch.Size([2, 4096])\n"
     ]
    }
   ],
   "source": [
    "for id in range(5100, 5110):\n",
    "    print(f\"{id=}, {tokenizer.decode([id])}\")   # Display 10 tokens from the tokenizer's vocabulary\n",
    "\n",
    "print(\"\\ntokenizer length:\", len(tokenizer))    # Display the length of the tokenizer's vocabulary\n",
    "\n",
    "sun_id = tokenizer.encode(\"sun\", return_tensors=\"pt\")[-1] # Get the last token of the \"sun\" encoding\n",
    "print(f\"\\n{sun_id=}\")\n",
    "\n",
    "print(tokenizer.decode(sun_id)) # Display the token corresponding to the \"sun\" encoding (decoding the token)\n",
    "\n",
    "emb = model.get_input_embeddings()(sun_id.to(device)) # Get the embedding of the \"sun\" token\n",
    "print(\"embedding shape:\", emb.shape)"
   ]
  },
  {
   "cell_type": "code",
   "execution_count": null,
   "metadata": {},
   "outputs": [
    {
     "name": "stdout",
     "output_type": "stream",
     "text": [
      "<s> My favorite composer is\n",
      "\n",
      "logits shape: torch.Size([32000])\n",
      "\n",
      "Outputs:\n",
      "\n",
      "Moz: 0.25\n",
      "Ch: 0.11\n",
      "Be: 0.09\n",
      "Ludwig: 0.08\n",
      "Fr: 0.03\n",
      "Wolfgang: 0.02\n",
      "Ig: 0.02\n"
     ]
    }
   ],
   "source": [
    "sequence = \"My favorite composer is\"\n",
    "model_inputs = tokenizer(sequence, return_tensors=\"pt\").to(device)\n",
    "print(tokenizer.decode(model_inputs[\"input_ids\"].tolist()[0])) # view tokenized input\n",
    "with torch.no_grad():\n",
    "    outputs = model(**model_inputs)\n",
    "\n",
    "logits = outputs['logits'][0, -1, :] # Get the logits of the last token of the sequence\n",
    "print(\"\\nlogits shape:\", logits.shape)\n",
    "\n",
    "probabilities = torch.nn.functional.softmax(logits, dim=-1) # Compute the probabilities using softmax\n",
    "top_k = 7\n",
    "top_prob, top_ind = torch.topk(probabilities, top_k) # Get the top 7 probabilities and their indices\n",
    "\n",
    "print(\"\\nOutputs:\\n\")\n",
    "\n",
    "for i in range(top_k):\n",
    "    print(f\"{tokenizer.decode(top_ind[i].tolist())}: {top_prob[i]:.2f}\") # Print top 7 tokens and their probabilities"
   ]
  },
  {
   "cell_type": "code",
   "execution_count": null,
   "metadata": {},
   "outputs": [
    {
     "name": "stdout",
     "output_type": "stream",
     "text": [
      "Unterscheidung \n",
      "Unterscheidung zwischen \n",
      "Unterscheidung zwischen  \n",
      "Unterscheidung zwischen  K \n",
      "Unterscheidung zwischen  K raft \n",
      "Unterscheidung zwischen  K raft  \n",
      "Unterscheidung zwischen  K raft  und \n",
      "Unterscheidung zwischen  K raft  und  \n",
      "Unterscheidung zwischen  K raft  und  K \n",
      "Unterscheidung zwischen  K raft  und  K raft \n",
      "Unterscheidung zwischen  K raft  und  K raft werk \n",
      "Unterscheidung zwischen  K raft  und  K raft werk  \n",
      "Unterscheidung zwischen  K raft  und  K raft werk   \n",
      "Unterscheidung zwischen  K raft  und  K raft werk    \n",
      "Unterscheidung zwischen  K raft  und  K raft werk     \n",
      "Unterscheidung zwischen  K raft  und  K raft werk     K \n",
      "Unterscheidung zwischen  K raft  und  K raft werk     K raft \n",
      "Unterscheidung zwischen  K raft  und  K raft werk     K raft  \n",
      "Unterscheidung zwischen  K raft  und  K raft werk     K raft  und \n",
      "Unterscheidung zwischen  K raft  und  K raft werk     K raft  und  \n",
      "Unterscheidung zwischen  K raft  und  K raft werk     K raft  und  K \n",
      "Unterscheidung zwischen  K raft  und  K raft werk     K raft  und  K raft \n",
      "Unterscheidung zwischen  K raft  und  K raft werk     K raft  und  K raft werk \n",
      "Unterscheidung zwischen  K raft  und  K raft werk     K raft  und  K raft werk  \n",
      "Unterscheidung zwischen  K raft  und  K raft werk     K raft  und  K raft werk  sind \n",
      "Unterscheidung zwischen  K raft  und  K raft werk     K raft  und  K raft werk  sind two \n",
      "Unterscheidung zwischen  K raft  und  K raft werk     K raft  und  K raft werk  sind two different \n",
      "Unterscheidung zwischen  K raft  und  K raft werk     K raft  und  K raft werk  sind two different German \n",
      "Unterscheidung zwischen  K raft  und  K raft werk     K raft  und  K raft werk  sind two different German words \n",
      "Unterscheidung zwischen  K raft  und  K raft werk     K raft  und  K raft werk  sind two different German words that \n"
     ]
    }
   ],
   "source": [
    "import regex as re\n",
    "\n",
    "sequence = \"\"\n",
    "model_inputs = tokenizer(sequence, return_tensors=\"pt\").to(device) # Encode the empty sequence\n",
    "\n",
    "generated_answer = \"\"\n",
    "for _ in range(30): # Generate 30 tokens\n",
    "    with torch.no_grad():\n",
    "        outputs = model(**model_inputs) # Forward pass through the model\n",
    "        logits = outputs['logits'][0, -1, :] # Get the logits of the last token of the sequence\n",
    "        probabilities = torch.nn.functional.softmax(logits, dim=-1) # Compute the probabilities using softmax\n",
    "        next_token_id = torch.argmax(probabilities).unsqueeze(0) # Get the token id with the highest probability\n",
    "        model_inputs[\"input_ids\"] = torch.cat([model_inputs[\"input_ids\"], next_token_id.unsqueeze(0)], dim=-1) # Append the new token to the input sequence\n",
    "    \n",
    "    next_word = tokenizer.decode(next_token_id.tolist()) # Decode the new token\n",
    "    next_word = re.sub(r\"[^a-zA-Z0-9.?!]\", \"\", next_word) # Remove special characters, just want readable text\n",
    "    generated_answer += next_word # Append the new token to the answer\n",
    "    generated_answer += \" \"     # Add a space after the token\n",
    "    \n",
    "    print(generated_answer) # Print generated text so far"
   ]
  },
  {
   "cell_type": "markdown",
   "metadata": {},
   "source": [
    "Why is there no added text for some of the steps?"
   ]
  },
  {
   "cell_type": "markdown",
   "metadata": {},
   "source": [
    "## 3 Flow-based modeling\n",
    "\n",
    "### (a)\n",
    "\n",
    "The CDF of $Y^\\prime = CDF_Y^{-1}(X)$ is \n",
    "\n",
    "$$CDF_{Y^\\prime}(y) = P(Y^\\prime \\leq y) = P(CDF_Y^{-1}(X) \\leq y),$$\n",
    "\n",
    "since CDF is a monotonically non-decreasing function, applying $CDF_Y(\\cdot)$ to both sides of the inequality will give an equivalent inequality, i.e.\n",
    "\n",
    "$$CDF_{Y^\\prime}(y) = P(CDF_Y(Y^\\prime) \\leq CDF_Y(y))$$\n",
    "$$ = P(X \\leq CDF_Y(y)) = CDF_{X}(CDF_Y(y))$$\n",
    "\n",
    "If X is a RV following a uniform distribution between 0 to 1, we have $CDF_X(x) = x$, therefore,\n",
    "\n",
    "$$CDF_{Y^\\prime}(y) = CDF_Y(y),$$\n",
    "\n",
    "but $$ p_Y = \\frac{\\mathrm{d}}{\\mathrm{d}y} CDF_Y(y) $$\n",
    "\n",
    "$$ p_Y = P_{Y^\\prime} $$\n",
    "\n",
    "which means the pdf of $Y$ and $Y^\\prime$ are identical."
   ]
  },
  {
   "cell_type": "markdown",
   "metadata": {},
   "source": [
    "### (b)\n",
    "\n",
    "After computing $CDF_X(x)$ and $CDF_Y(y)$ we can solve for $g(x) = CDF^{-1}_Y(CDF(x))$, which maps the random variable X to Y\n",
    "\n",
    "Compute CDF as integral of p\n",
    "\n",
    "$$CDF_X(x) = \\frac{1}{4}x^2\\text{, } CDF_Y(y) = -\\frac{1}{4}y^2 + y$$\n",
    "$$ g(x) = 2(1 - \\sqrt{1 - \\frac{1}{4}x^2} )"
   ]
  },
  {
   "cell_type": "code",
   "execution_count": 1,
   "metadata": {},
   "outputs": [
    {
     "data": {
      "image/png": "[encoded data removed]",
      "text/plain": [
       "<Figure size 640x480 with 1 Axes>"
      ]
     },
     "metadata": {},
     "output_type": "display_data"
    }
   ],
   "source": [
    "import numpy as np\n",
    "import matplotlib.pyplot as plt\n",
    "\n",
    "# load the 1d samples:\n",
    "samples = np.load(\"data/samples_1d.npy\")\n",
    "\n",
    "x_lin = np.linspace(0, 2, 1000)\n",
    "plt.hist(samples, bins=50, density=True)\n",
    "plt.plot(x_lin, 1/2 * x_lin, label=\"pdf(x) = 1/2*x, x in [0,2]\")\n",
    "plt.legend()\n",
    "plt.show()"
   ]
  },
  {
   "cell_type": "code",
   "execution_count": 2,
   "metadata": {},
   "outputs": [
    {
     "data": {
      "image/png": "[encoded data removed]",
      "text/plain": [
       "<Figure size 640x480 with 1 Axes>"
      ]
     },
     "metadata": {},
     "output_type": "display_data"
    }
   ],
   "source": [
    "# TODO: transform the samples to samples from pdf(y) = -1/2*y + 1, y in [0,2]\n",
    "\n",
    "# CDF(x) = 1/4 * x^2 \n",
    "# CDF(y) = -1/4 * y^2 + y\n",
    "# CDF_Y^-1(y') = 2 - 2*sqrt(1-y')\n",
    "\n",
    "x_trans = 2 - 2 * np.sqrt(1 - 1/4 * samples**2)\n",
    "plt.hist(x_trans, bins=50, density=True)\n",
    "plt.plot(x_lin, -1/2 * x_lin + 1, label=\"pdf(y) =1 - 1/2*y, y in [0,2]\")\n",
    "plt.legend()\n",
    "plt.show()"
   ]
  },
  {
   "cell_type": "markdown",
   "metadata": {},
   "source": [
    "### (c)\n",
    "\n",
    "Let $X_1, X_2 \\sim U(0, 1)$, $Y_1, Y_2 \\sim N^2(0, 1, 0, 1)$.\n",
    "\n",
    "The pdf of $Y_1, Y_2$ is $$p_{{Y_1}, {Y_2}}(y_1, y_2) = \\frac{1}{2\\pi} \\exp(-\\frac{1}{2}(y_1^2 + y_2^2)).$$\n",
    "\n",
    "Transform into polar coordinate $(r, \\phi)$, gives \n",
    "\n",
    "$$Y_1 = R \\cos \\Phi,\\ \\  Y_2 = R \\sin \\Phi,$$\n",
    "$$p_{R, \\Phi}(r, \\phi) = \\frac{1}{2\\pi} r\\exp(-\\frac{1}{2}r^2).$$\n",
    "\n",
    "Corresponding marginal distribution, CDF and quantile function are given by\n",
    "$$p(r) = \\int_{0}^{2\\pi} p_{R, \\Phi}(r, \\phi) \\,d\\phi, \\ \\ p(\\phi) = \\int_{0}^{\\infty} p_{R, \\Phi}(r, \\phi) \\,dr$$\n",
    "$$p_R(r) = r\\exp(-\\frac{1}{2}r^2),\\ \\  p_{\\Phi}(\\phi) = \\frac{1}{2\\pi}$$\n",
    "$$CDF_R(r) = 1 - \\exp(-\\frac{r^2}{2}),\\ \\  CDF_\\Phi(\\phi) = \\frac{\\phi}{2\\pi}$$\n",
    "$$CDF_R^{-1}(a) = \\sqrt{-2\\log(1-a)},\\ \\  CDF_\\Phi^{-1}(b) = 2\\pi b.$$\n",
    "\n",
    "According to the result of (a) and (b), we have\n",
    "\n",
    "$$R = CDF_R^{-1}(X_1) = \\sqrt{-2\\log(1-X_1)}, \\ \\ \\Phi = CDF_\\Phi^{-1}(X_2) = 2\\pi X_2, $$\n",
    "$$Y_1 = \\sqrt{-2\\log(1-X_1)} \\cos (2\\pi X_2),$$\n",
    "$$Y_2 = \\sqrt{-2\\log(1-X_1)} \\sin (2\\pi X_2).$$"
   ]
  },
  {
   "cell_type": "markdown",
   "metadata": {},
   "source": [
    "### (d)\n",
    "\n",
    "Because different joint distribution could give same marginal distribution. The covariance of the multivariate distribution must be taken into account. Multivariate distributions also lack a complete natural ordering."
   ]
  },
  {
   "cell_type": "markdown",
   "metadata": {},
   "source": [
    "### (e)\n",
    "\n",
    "If $h(x)$ is a monotonic function, then $h^{-1}(y)$ is also a monotonic function with same monotonicity.\n",
    "\n",
    "The CDF of Y is \n",
    "$$\n",
    "CDF_Y(y) = P(Y \\leq y) = P(h(x) \\leq y) \n",
    "= \\left\\{\n",
    "    \\begin{aligned}\n",
    "    P(X \\leq h^{-1}(y)),\\ \\  & h^\\prime(x) \\geq 0, \\\\\n",
    "    P(X \\geq h^{-1}(y)),\\ \\  & h^\\prime(x) \\leq 0.\n",
    "    \\end{aligned}\\right.\n",
    "$$\n",
    "\n",
    "$$\n",
    "CDF_Y(y) = \\left\\{\n",
    "    \\begin{aligned}\n",
    "    CDF_X(h^{-1}(y)),\\ \\  & h^\\prime(x) \\geq 0, \\\\\n",
    "    1 - CDF_X(h^{-1}(y)),\\ \\  & h^\\prime(x) \\leq 0.\n",
    "    \\end{aligned}\\right.\n",
    "$$\n",
    "\n",
    "$$\n",
    "p_Y(y) = \\frac{d}{dy} CDF_Y(y) = \\left\\{\n",
    "    \\begin{aligned}\n",
    "     \\frac{p_X(h^{-1}(y))}{h^\\prime(h^{-1}(y))},\\ \\  & h^\\prime(x) \\geq 0, \\\\\n",
    "    - \\frac{p_X(h^{-1}(y))}{h^\\prime(h^{-1}(y))},\\ \\  & h^\\prime(x) \\leq 0.\n",
    "    \\end{aligned}\\right.\n",
    "$$\n",
    "\n",
    "$$p_Y(y) = \\left.p_X(x)\\cdot|\\frac{dh}{dx}(x)|^{-1}\\right|_{x = h^{-1}(y)}$$"
   ]
  }
 ],
 "metadata": {
  "kernelspec": {
   "display_name": "Python 3",
   "language": "python",
   "name": "python3"
  },
  "language_info": {
   "codemirror_mode": {
    "name": "ipython",
    "version": 3
   },
   "file_extension": ".py",
   "mimetype": "text/x-python",
   "name": "python",
   "nbconvert_exporter": "python",
   "pygments_lexer": "ipython3",
   "version": "3.10.0"
  }
 },
 "nbformat": 4,
 "nbformat_minor": 2
}
